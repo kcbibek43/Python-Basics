{
 "cells": [
  {
   "cell_type": "code",
   "execution_count": 1,
   "id": "29e5f531",
   "metadata": {},
   "outputs": [
    {
     "name": "stdout",
     "output_type": "stream",
     "text": [
      "Enter a number: 1\n",
      "Enter next number: 2\n",
      "The sum is 3\n"
     ]
    }
   ],
   "source": [
    "n1 = int(input(\"Enter a number: \"))\n",
    "n2 = int(input(\"Enter next number: \"))\n",
    "sum = n1 + n2\n",
    "print (\"The sum is \" + str(sum))"
   ]
  },
  {
   "cell_type": "code",
   "execution_count": 2,
   "id": "0aa8e943",
   "metadata": {},
   "outputs": [
    {
     "name": "stdout",
     "output_type": "stream",
     "text": [
      "Enter a number: 4\n",
      "2.0\n"
     ]
    }
   ],
   "source": [
    "import math\n",
    "n1 = int(input(\"Enter a number: \"))\n",
    "sq = math.sqrt(n1)\n",
    "print(sq)"
   ]
  },
  {
   "cell_type": "code",
   "execution_count": 3,
   "id": "da0670d0",
   "metadata": {},
   "outputs": [
    {
     "name": "stdout",
     "output_type": "stream",
     "text": [
      "Enter base of a triangle:  2\n",
      "Enter height of a triangle:  6\n",
      "6.0\n"
     ]
    }
   ],
   "source": [
    "b = int(input(\"Enter base of a triangle:  \"))\n",
    "h = int(input(\"Enter height of a triangle:  \"))\n",
    "area = b*h/2\n",
    "print(area)"
   ]
  },
  {
   "cell_type": "code",
   "execution_count": 17,
   "id": "008d8ed4",
   "metadata": {},
   "outputs": [
    {
     "name": "stdout",
     "output_type": "stream",
     "text": [
      "Enter a of quadratic equation: 1\n",
      "Enter b of quadratic equation: 2\n",
      "Enter c of quadratic equation: 1\n",
      " Roots \n",
      "-1.0\n"
     ]
    }
   ],
   "source": [
    "import math\n",
    "a = int(input(\"Enter a of quadratic equation: \"))\n",
    "b = int(input(\"Enter b of quadratic equation: \"))\n",
    "c = int(input(\"Enter c of quadratic equation: \"))\n",
    "dis = b * b - 4 * a * c \n",
    "sqrt_val = math.sqrt(abs(dis)) \n",
    "if dis > 0: \n",
    "        print(\" Roots \") \n",
    "        print((-b + sqrt_val)/(2 * a)) \n",
    "        print((-b - sqrt_val)/(2 * a)) \n",
    "elif dis == 0: \n",
    "    print(\" Roots \") \n",
    "    print(-b / (2 * a)) \n",
    "else:\n",
    "    print(\"Complex Roots\") \n",
    "    print(- b / (2 * a), \" + i\", sqrt_val) \n",
    "    print(- b / (2 * a), \" - i\", sqrt_val) "
   ]
  },
  {
   "cell_type": "code",
   "execution_count": 5,
   "id": "425a904c",
   "metadata": {},
   "outputs": [
    {
     "name": "stdout",
     "output_type": "stream",
     "text": [
      "Enter a number: 2\n",
      "Enter next number: 3\n",
      "x = 3\n",
      "y = 2\n"
     ]
    }
   ],
   "source": [
    "x = int(input(\"Enter a number: \"))\n",
    "y = int(input(\"Enter next number: \"))\n",
    "x, y = y, x\n",
    "print(\"x =\", x)\n",
    "print(\"y =\", y)"
   ]
  },
  {
   "cell_type": "code",
   "execution_count": 6,
   "id": "07919ab4",
   "metadata": {},
   "outputs": [
    {
     "name": "stdout",
     "output_type": "stream",
     "text": [
      "3\n"
     ]
    }
   ],
   "source": [
    "import random\n",
    "print(random.randint(0,100))"
   ]
  },
  {
   "cell_type": "code",
   "execution_count": 7,
   "id": "136ddd23",
   "metadata": {},
   "outputs": [
    {
     "name": "stdout",
     "output_type": "stream",
     "text": [
      "Enter value in kilometers: 2\n",
      "2.000000 kilometers is equal to 1.242742 miles\n"
     ]
    }
   ],
   "source": [
    "in_km = float(input(\"Enter value in kilometers: \"))\n",
    "conv_fac = 0.621371\n",
    "in_miles = in_km * conv_fac\n",
    "print('%0.6f kilometers is equal to %0.6f miles' %(in_km,in_miles))"
   ]
  },
  {
   "cell_type": "code",
   "execution_count": 8,
   "id": "c16c3340",
   "metadata": {},
   "outputs": [
    {
     "name": "stdout",
     "output_type": "stream",
     "text": [
      "Enter temperature in celsius : 3\n",
      "3.0 degree Celsius is equal to 37.4 degree Fahrenheit\n"
     ]
    }
   ],
   "source": [
    "in_celsius = float(input(\"Enter temperature in celsius : \"))\n",
    "in_fahrenheit = (in_celsius * 1.8) + 32\n",
    "print('%0.1f degree Celsius is equal to %0.1f degree Fahrenheit' %(in_celsius,in_fahrenheit))"
   ]
  },
  {
   "cell_type": "code",
   "execution_count": 27,
   "id": "1b74d5c0",
   "metadata": {},
   "outputs": [
    {
     "name": "stdout",
     "output_type": "stream",
     "text": [
      "Enter range of element : 16\n",
      "Enter the divider: 3\n",
      "3\n",
      "6\n",
      "9\n",
      "12\n",
      "15\n"
     ]
    }
   ],
   "source": [
    "n = int(input(\"Enter range of element : \"))\n",
    "div = int(input(\"Enter the divider: \"))\n",
    "for i in range(1, n):\n",
    "    if i%div == 0:\n",
    "         print(i)"
   ]
  },
  {
   "cell_type": "code",
   "execution_count": 26,
   "id": "d7849989",
   "metadata": {},
   "outputs": [
    {
     "name": "stdout",
     "output_type": "stream",
     "text": [
      "Select operation.\n",
      "1.Add\n",
      "2.Subtract\n",
      "3.Multiply\n",
      "4.Divide\n",
      "Enter choice(1/2/3/4): 2\n",
      "Enter first number: 12\n",
      "Enter second number: 2\n",
      "Result 10.0\n"
     ]
    }
   ],
   "source": [
    "\n",
    "print(\"Select operation.\")\n",
    "print(\"1.Add\")\n",
    "print(\"2.Subtract\")\n",
    "print(\"3.Multiply\")\n",
    "print(\"4.Divide\")\n",
    "\n",
    "choice = input(\"Enter choice(1/2/3/4): \")\n",
    "num1 = float(input(\"Enter first number: \"))\n",
    "num2 = float(input(\"Enter second number: \"))\n",
    "\n",
    "if choice == '1':\n",
    "    print(\"Result\", num1+num2)\n",
    "elif choice == '2':\n",
    "     print(\"Result\", num1-num2)\n",
    "elif choice == '3':\n",
    "     print(\"Result\", num1*num2)\n",
    "elif choice == '4':\n",
    "     print(\"Result\", num1/num2)\n",
    "else:l\n",
    "     print(\"Invalid Input\")"
   ]
  }
 ],
 "metadata": {
  "kernelspec": {
   "display_name": "Python 3 (ipykernel)",
   "language": "python",
   "name": "python3"
  },
  "language_info": {
   "codemirror_mode": {
    "name": "ipython",
    "version": 3
   },
   "file_extension": ".py",
   "mimetype": "text/x-python",
   "name": "python",
   "nbconvert_exporter": "python",
   "pygments_lexer": "ipython3",
   "version": "3.9.13"
  }
 },
 "nbformat": 4,
 "nbformat_minor": 5
}
